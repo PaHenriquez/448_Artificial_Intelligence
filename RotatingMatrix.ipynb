{
 "cells": [
  {
   "cell_type": "markdown",
   "id": "b88a4b68",
   "metadata": {},
   "source": [
    "[![Open In Colab](https://colab.research.google.com/assets/colab-badge.svg)](https://colab.research.google.com/github/PaHenriquez/448_Artificial_Intelligence/blob/main/RotatingMatrix.ipynb)"
   ]
  },
  {
   "cell_type": "markdown",
   "id": "c3148cb1",
   "metadata": {},
   "source": [
    "# Matrix Rotation\n",
    "\n",
    "This notebook will show how a random generated matrix rotates counterclockwise or clockwise 90 degrees a chosen number of time. Each time the matrix rotates, the matrix state is printed out to show visibly the rotation pattern.\n",
    "\n",
    "# How to run code\n",
    "When running the code it will ask for number where it will generate for a number by number matrix. \n",
    "\n",
    "If you want to rotate 90 degree clockwise a certain number of times, enter a positive number.\n",
    "\n",
    "For rotating the matrix 90 degrees counterclockwise, enter a negative number.\n",
    "\n",
    "# Example\n",
    "\n",
    "Enter number to create N by N grid: 3\n",
    "\n",
    "[8, 1, 8]\n",
    "[0, 6, 4]\n",
    "[8, 6, 3]\n",
    "\n",
    "Enter number you want to rotate: 4\n",
    "\n",
    "rotating 90 degrees clockwise\n",
    "\n",
    "[8, 0, 8]\n",
    "[6, 6, 1]\n",
    "[3, 4, 8]\n",
    "\n",
    "rotating 90 degrees clockwise\n",
    "\n",
    "[3, 6, 8]\n",
    "[4, 6, 0]\n",
    "[8, 1, 8]\n",
    "\n",
    "rotating 90 degrees clockwise\n",
    "\n",
    "[8, 4, 3]\n",
    "[1, 6, 6]\n",
    "[8, 0, 8]\n",
    "\n",
    "rotating 90 degrees clockwise\n",
    "\n",
    "[8, 1, 8]\n",
    "[0, 6, 4]\n",
    "[8, 6, 3]"
   ]
  },
  {
   "cell_type": "code",
   "execution_count": 14,
   "id": "aa70bbb7",
   "metadata": {
    "scrolled": true
   },
   "outputs": [
    {
     "name": "stdout",
     "output_type": "stream",
     "text": [
      "Enter number to create N by N grid: 3\n",
      "[5, 6, 6]\n",
      "[2, 9, 2]\n",
      "[5, 4, 8]\n",
      "Enter number you want to rotate: 4\n",
      "\n",
      "rotating 90 degrees clockwise\n",
      "[5, 2, 5]\n",
      "[4, 9, 6]\n",
      "[8, 2, 6]\n",
      "\n",
      "rotating 90 degrees clockwise\n",
      "[8, 4, 5]\n",
      "[2, 9, 2]\n",
      "[6, 6, 5]\n",
      "\n",
      "rotating 90 degrees clockwise\n",
      "[6, 2, 8]\n",
      "[6, 9, 4]\n",
      "[5, 2, 5]\n",
      "\n",
      "rotating 90 degrees clockwise\n",
      "[5, 6, 6]\n",
      "[2, 9, 2]\n",
      "[5, 4, 8]\n"
     ]
    }
   ],
   "source": [
    "from random import randint\n",
    "\n",
    "class Matrix():\n",
    "\n",
    "    def __init__(self,m,n):\n",
    "        mat = []\n",
    "        for i in range(0,m):\n",
    "            mat.append([])\n",
    "            for j in range(0,n):\n",
    "                mat[i].append(randint(0,10))\n",
    "        \n",
    "        self.mat = mat\n",
    "        self.m = m\n",
    "        self.n = n\n",
    "\n",
    "    def __str__(self):\n",
    "        return '{}'.format(self.mat)\n",
    "\n",
    "    def clockwise(self,num):\n",
    "        count = 0\n",
    "        while(count < num):\n",
    "            test = []\n",
    "            for i in range(0,self.n):\n",
    "                test.append([])\n",
    "                for j in range(0,self.m):\n",
    "                    test[i].append(0)\n",
    "\n",
    "            for i in range(0,self.m):\n",
    "                for j in range(0,self.n):\n",
    "                    test[j][self.m-i-1] = self.mat[i][j]\n",
    "            self.mat = test\n",
    "            print(\"\\nrotating 90 degrees clockwise\")\n",
    "            for i in range(0,self.m): print(self.mat[i])\n",
    "            count+=1\n",
    "    \n",
    "    def counter_clockwise(self,num):\n",
    "        count = 0\n",
    "        while(count < num):\n",
    "            test  = []\n",
    "            for i in range(0,self.m):\n",
    "                test.append([])\n",
    "                for j in range(0,self.n):\n",
    "                    test[i].append(0)\n",
    "\n",
    "            for i in range(0,self.m):\n",
    "                for j in range(0,self.n):\n",
    "                    test[j][i] = self.mat[i][self.n-j-1]\n",
    "            self.mat = test\n",
    "            print(\"\\nrotating 90 degrees counter clockwise\")\n",
    "            for i in range (0,self.m): print(self.mat[i])\n",
    "            count+=1\n",
    "        \n",
    "    \n",
    "        \n",
    "row = int(input(\"Enter number to create N by N grid: \"))\n",
    "column = row\n",
    "\n",
    "test = Matrix(row,column)\n",
    "for i in range(0,row): print(test.mat[i])\n",
    "\n",
    "n = int(input(\"Enter number you want to rotate: \"))\n",
    "if(n < 0):\n",
    "    test.counter_clockwise(abs(n))\n",
    "elif(n > 0):\n",
    "    test.clockwise(n)\n",
    "else:\n",
    "    print(\"no rotation done\\n\")"
   ]
  },
  {
   "cell_type": "code",
   "execution_count": 24,
   "id": "afc58d95",
   "metadata": {},
   "outputs": [
    {
     "name": "stdout",
     "output_type": "stream",
     "text": [
      "/bin/bash: -c: line 0: syntax error near unexpected token `('\r\n",
      "/bin/bash: -c: line 0: `[AI Meme](./AI_Cat.jpg)'\r\n"
     ]
    }
   ],
   "source": [
    "![AI Meme](./AI_Cat.jpg)"
   ]
  }
 ],
 "metadata": {
  "kernelspec": {
   "display_name": "Python 3",
   "language": "python",
   "name": "python3"
  },
  "language_info": {
   "codemirror_mode": {
    "name": "ipython",
    "version": 3
   },
   "file_extension": ".py",
   "mimetype": "text/x-python",
   "name": "python",
   "nbconvert_exporter": "python",
   "pygments_lexer": "ipython3",
   "version": "3.6.9"
  }
 },
 "nbformat": 4,
 "nbformat_minor": 5
}
